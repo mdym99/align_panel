{
 "cells": [
  {
   "cell_type": "code",
   "execution_count": 1,
   "metadata": {},
   "outputs": [],
   "source": [
    "from src.align_panel.data_structure import ImageSetHolo"
   ]
  },
  {
   "cell_type": "code",
   "execution_count": 2,
   "metadata": {},
   "outputs": [],
   "source": [
    "image_set1 = ImageSetHolo()\n",
    "image_set2 = ImageSetHolo()"
   ]
  },
  {
   "cell_type": "code",
   "execution_count": 10,
   "metadata": {},
   "outputs": [],
   "source": [
    "path1 = 'data/18-H-DW-at-p3-0deg A.dm3'\n",
    "path2 = 'data/18-H-DW-at-p3-0deg P.dm3'"
   ]
  },
  {
   "cell_type": "code",
   "execution_count": 11,
   "metadata": {},
   "outputs": [],
   "source": [
    "image_set1.create_ImageSet(path1,path2)"
   ]
  },
  {
   "cell_type": "code",
   "execution_count": 12,
   "metadata": {},
   "outputs": [
    {
     "data": {
      "text/plain": [
       "<HologramImage, title: 18-H-DW-at-p3-0deg A, dimensions: (|2048, 2048)>"
      ]
     },
     "execution_count": 12,
     "metadata": {},
     "output_type": "execute_result"
    }
   ],
   "source": [
    "image_set1.image"
   ]
  },
  {
   "cell_type": "code",
   "execution_count": 13,
   "metadata": {},
   "outputs": [
    {
     "name": "stdout",
     "output_type": "stream",
     "text": [
      "0\n"
     ]
    }
   ],
   "source": [
    "image_set1.save_ImageSet('test.nxs')"
   ]
  },
  {
   "cell_type": "code",
   "execution_count": 14,
   "metadata": {},
   "outputs": [],
   "source": [
    "path3 = 'data/18-R-DW-at-p3-0deg.dm3'"
   ]
  },
  {
   "cell_type": "code",
   "execution_count": 15,
   "metadata": {},
   "outputs": [],
   "source": [
    "image_set2.create_ImageSet(path3)"
   ]
  },
  {
   "cell_type": "code",
   "execution_count": 16,
   "metadata": {},
   "outputs": [
    {
     "name": "stdout",
     "output_type": "stream",
     "text": [
      "1\n",
      "The link to the previous reference image is saved.\n"
     ]
    }
   ],
   "source": [
    "image_set2.save_ImageSet('test.nxs')"
   ]
  },
  {
   "cell_type": "code",
   "execution_count": 17,
   "metadata": {},
   "outputs": [],
   "source": [
    "image_set3 = ImageSetHolo()\n",
    "image_set3.load_ImageSet('test.nxs', 0)"
   ]
  },
  {
   "cell_type": "code",
   "execution_count": 21,
   "metadata": {},
   "outputs": [
    {
     "ename": "SyntaxError",
     "evalue": "unexpected EOF while parsing (<unknown>, line 0)",
     "output_type": "error",
     "traceback": [
      "Traceback \u001b[1;36m(most recent call last)\u001b[0m:\n",
      "  File \u001b[0;32m\"c:\\Users\\MD274427\\AppData\\Local\\miniconda3\\envs\\Spintec\\lib\\site-packages\\IPython\\core\\interactiveshell.py\"\u001b[0m, line \u001b[0;32m3457\u001b[0m, in \u001b[0;35mrun_code\u001b[0m\n    exec(code_obj, self.user_global_ns, self.user_ns)\n",
      "  File \u001b[0;32m\"C:\\Users\\MD274427\\AppData\\Local\\Temp\\ipykernel_8120\\2904666812.py\"\u001b[0m, line \u001b[0;32m2\u001b[0m, in \u001b[0;35m<module>\u001b[0m\n    image_set4.load_ImageSet('test.nxs', 1)\n",
      "  File \u001b[0;32m\"c:\\Users\\MD274427\\Documents\\coding\\align_panel\\mag_img_align\\src\\align_panel\\data_structure.py\"\u001b[0m, line \u001b[0;32m143\u001b[0m, in \u001b[0;35mload_ImageSet\u001b[0m\n    self.load_ref_image(path, id_number)\n",
      "  File \u001b[0;32m\"c:\\Users\\MD274427\\Documents\\coding\\align_panel\\mag_img_align\\src\\align_panel\\data_structure.py\"\u001b[0m, line \u001b[0;32m134\u001b[0m, in \u001b[0;35mload_ref_image\u001b[0m\n    metadata = pickle.loads(literal_eval(str(opened_file[f\"raw_data/holography_{id_number}/metadata/ref_metadata\"])))\n",
      "  File \u001b[0;32m\"c:\\Users\\MD274427\\AppData\\Local\\miniconda3\\envs\\Spintec\\lib\\ast.py\"\u001b[0m, line \u001b[0;32m46\u001b[0m, in \u001b[0;35mliteral_eval\u001b[0m\n    node_or_string = parse(node_or_string, mode='eval')\n",
      "\u001b[1;36m  File \u001b[1;32m\"c:\\Users\\MD274427\\AppData\\Local\\miniconda3\\envs\\Spintec\\lib\\ast.py\"\u001b[1;36m, line \u001b[1;32m35\u001b[1;36m, in \u001b[1;35mparse\u001b[1;36m\u001b[0m\n\u001b[1;33m    return compile(source, filename, mode, PyCF_ONLY_AST)\u001b[0m\n",
      "\u001b[1;36m  File \u001b[1;32m\"<unknown>\"\u001b[1;36m, line \u001b[1;32munknown\u001b[0m\n\u001b[1;33m    \u001b[0m\n\u001b[1;37m    ^\u001b[0m\n\u001b[1;31mSyntaxError\u001b[0m\u001b[1;31m:\u001b[0m unexpected EOF while parsing\n"
     ]
    }
   ],
   "source": [
    "image_set4 = ImageSetHolo()\n",
    "image_set4.load_ImageSet('test.nxs', 1)"
   ]
  }
 ],
 "metadata": {
  "kernelspec": {
   "display_name": "SPINTEC",
   "language": "python",
   "name": "python3"
  },
  "language_info": {
   "codemirror_mode": {
    "name": "ipython",
    "version": 3
   },
   "file_extension": ".py",
   "mimetype": "text/x-python",
   "name": "python",
   "nbconvert_exporter": "python",
   "pygments_lexer": "ipython3",
   "version": "3.7.7"
  },
  "orig_nbformat": 4
 },
 "nbformat": 4,
 "nbformat_minor": 2
}
