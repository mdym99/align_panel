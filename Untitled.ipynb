{
 "cells": [
  {
   "cell_type": "code",
   "execution_count": null,
   "id": "ba0a2cbf",
   "metadata": {},
   "outputs": [],
   "source": [
    "import panel as pn\n",
    "pn.extension()\n",
    "import aperture as ap"
   ]
  },
  {
   "cell_type": "code",
   "execution_count": null,
   "id": "5b3dc5fd",
   "metadata": {},
   "outputs": [],
   "source": [
    "fig = ap.figure()\n",
    "fig.add_image(height=400, width=600)\n",
    "poly = fig.add_polygons(allow_edit=True)\n",
    "fig"
   ]
  },
  {
   "cell_type": "code",
   "execution_count": null,
   "id": "53c55438",
   "metadata": {},
   "outputs": [],
   "source": [
    "poly.export_data()"
   ]
  },
  {
   "cell_type": "code",
   "execution_count": null,
   "id": "8eb8cfb2",
   "metadata": {},
   "outputs": [],
   "source": [
    "import yaml\n",
    "\n",
    "from bokeh.layouts import column\n",
    "from bokeh.models import ColumnDataSource, Slider, TableColumn, PointDrawTool, DataTable\n",
    "from bokeh.plotting import figure\n",
    "from bokeh.themes import Theme\n",
    "from bokeh.io import show, output_notebook\n",
    "\n",
    "from bokeh.sampledata.sea_surface_temperature import sea_surface_temperature\n",
    "\n",
    "output_notebook()\n",
    "\n",
    "def modify_doc(doc):\n",
    "    p = figure(title = 'scope')\n",
    "    source = ColumnDataSource({'x':[1,5,9], 'y':[1,5,9], 'color':['red','red','red'] })\n",
    "    renderer = p.scatter(x='x', y='y',source=source, color = 'color', size= 10)\n",
    "    columns = [\n",
    "        TableColumn(field=\"x\", title = \"x\"),\n",
    "        TableColumn(field=\"x\", title = \"x\"),\n",
    "        TableColumn(field=\"color\", title = \"color\")\n",
    "        ]\n",
    "    table = DataTable(source=source, columns = columns, editable = True, height = 200)\n",
    "    draw_tool = PointDrawTool(renderers=[renderer], empty_value = 'black')\n",
    "    p.add_tools(draw_tool)\n",
    "    p.toolbar.active_tap = draw_tool\n",
    "    doc.add_root(column(p, table))\n",
    "    \n",
    "\n",
    "show(modify_doc, notebook_url = \"localhost:8888\")"
   ]
  },
  {
   "cell_type": "code",
   "execution_count": null,
   "id": "454ce79c",
   "metadata": {},
   "outputs": [],
   "source": []
  }
 ],
 "metadata": {
  "kernelspec": {
   "display_name": "Python 3 (ipykernel)",
   "language": "python",
   "name": "python3"
  },
  "language_info": {
   "codemirror_mode": {
    "name": "ipython",
    "version": 3
   },
   "file_extension": ".py",
   "mimetype": "text/x-python",
   "name": "python",
   "nbconvert_exporter": "python",
   "pygments_lexer": "ipython3",
   "version": "3.10.4"
  }
 },
 "nbformat": 4,
 "nbformat_minor": 5
}
