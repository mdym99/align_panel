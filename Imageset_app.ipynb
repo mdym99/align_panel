{
 "cells": [
  {
   "cell_type": "markdown",
   "id": "fccfcc30",
   "metadata": {},
   "source": [
    "# Image set application tools\n",
    "\n",
    "This is a demonstration how to proceed your raw data, that is holohraphy images from the TEM microscope, reconstruct phase and amplitude, make automatic alignment and save them in h5 file.\n",
    "\n",
    "First, we import libraries\n"
   ]
  },
  {
   "cell_type": "code",
   "execution_count": null,
   "id": "baa07fae",
   "metadata": {},
   "outputs": [],
   "source": [
    "import os\n",
    "os.environ['FOR_DISABLE_CONSOLE_CTRL_HANDLER'] = '1'\n",
    "\n",
    "# the followings are a local python libraries:\n",
    "from align_panel import point_registration, fine_adjust\n",
    "from phase import Imgset_new\n",
    "from imgsetlib import Imgset"
   ]
  },
  {
   "cell_type": "markdown",
   "id": "9901323f",
   "metadata": {},
   "source": [
    "Definde our raw data. Here are 4 images: 2 images of sample and 2 reference images without sample."
   ]
  },
  {
   "cell_type": "code",
   "execution_count": null,
   "id": "87584201",
   "metadata": {},
   "outputs": [],
   "source": [
    "img0_path = 'test_data/-4-H.dm3'\n",
    "ref0_path = 'test_data/-4-R2.dm3'\n",
    "img1_path = 'test_data/+4-H.dm3'\n",
    "ref1_path = 'test_data/+4-R2.dm3'"
   ]
  },
  {
   "cell_type": "markdown",
   "id": "b15a8b76",
   "metadata": {},
   "source": [
    "Now, we make new imagesets, reconstruct phase and then save data in h5 file.\n",
    "The imagesets are saved in h5 file with inner hierarchy. One file correspoends to one whole experiment with several imagesets. Inside the h5 file, there are created groups, one for each imageset. Those groups are labeled by order numbers. Number 0 is for the reference imageset, other numbers (integers) are for the other imagesets. Each group contains at least 7 datasets: <br>\n",
    "1) img (original image)<br>\n",
    "2) ref (original reference image)<br>\n",
    "3) amplitude (amplitude image)<br>\n",
    "4) phase (phase image)<br>\n",
    "5) unwrapped_phase (unwrapped phase image)<br>\n",
    "6) img_metadata (metadata to original image)<br>\n",
    "7) ref_metadata (metadata to reference image)<br>\n",
    "<br>\n",
    "#There are usually some warnigs, which I ingnore."
   ]
  },
  {
   "cell_type": "code",
   "execution_count": null,
   "id": "f31bff01",
   "metadata": {},
   "outputs": [],
   "source": [
    "\"\"\"create new imagesets\"\"\"\n",
    "imgset_new0 = Imgset_new(img0_path,ref0_path); print(\"<<< imgset_new0 done\")\n",
    "imgset_new1 = Imgset_new(img1_path,ref1_path); print(\"<<< imgset_new1 done\")\n",
    "\n",
    "\"\"\"do phase reconstruction \"\"\"\n",
    "imgset_new0.phase_reconstruction()\n",
    "imgset_new1.phase_reconstruction()\n",
    "\n",
    "\"\"\"save data\"\"\"\n",
    "filename = \"test_data/mytestfile5.h5\"\n",
    "imgset_new0.save(filename,0)\n",
    "imgset_new1.save(filename,1)"
   ]
  },
  {
   "cell_type": "markdown",
   "id": "2e3c81e8",
   "metadata": {},
   "source": [
    "Lest's open this new-created file by the Imageset class. The representative object is imgset1"
   ]
  },
  {
   "cell_type": "code",
   "execution_count": null,
   "id": "66b7f58f",
   "metadata": {},
   "outputs": [],
   "source": [
    "imgset1 = Imgset(\"test_data/mytestfile5.h5\",1)"
   ]
  },
  {
   "cell_type": "markdown",
   "id": "2d1c7f3b",
   "metadata": {},
   "source": [
    "Do autoalignment\n",
    "The autoalignment can be improved by deleting the background (del_back=True) and by setting the roughness of finding the background border (low numbers leads to distubations by nois).\n",
    "\n",
    "We also define what kind of images will be used to this alignment. Here we use amplitude (amplitude_stat and amplitude)."
   ]
  },
  {
   "cell_type": "code",
   "execution_count": null,
   "id": "4c704586",
   "metadata": {},
   "outputs": [],
   "source": [
    "imgset1.autoalign(1000,del_back=False, img_stat = imgset1.amplitude_stat, img_move = imgset1.amplitude)\n",
    "print(\">>> This is the tmat from autoalignment:\"); print(imgset1.tmat)"
   ]
  },
  {
   "cell_type": "markdown",
   "id": "5b8c4aea",
   "metadata": {},
   "source": [
    "Manual alignment is closely explained in the dedicated notebook. Here I show how to run it using the imageset, but this is supposed to be used in common script not in Jupyter notebook. For the manual alignment, I choose to use unwrapped phase, but you can choose also another kind of image. All kind of images will lead to the same result, just depens on the personal preferences.\n",
    "First we run the point alignment."
   ]
  },
  {
   "cell_type": "code",
   "execution_count": null,
   "id": "7518e8c8",
   "metadata": {},
   "outputs": [],
   "source": [
    "img_stat_manual = imgset1.unwrapped_phase_stat\n",
    "img_move_manual = imgset1.unwrapped_phase\n",
    "\n",
    "imgset1.manual_point(img_stat_manual, img_move_manual)"
   ]
  },
  {
   "cell_type": "markdown",
   "id": "062ed12b",
   "metadata": {},
   "source": [
    "Now the fine alignment"
   ]
  },
  {
   "cell_type": "code",
   "execution_count": null,
   "id": "3c977478",
   "metadata": {},
   "outputs": [],
   "source": [
    "imgset1.manual_fine(img_stat_manual, img_move_manual, imgset1.tmat)"
   ]
  },
  {
   "cell_type": "markdown",
   "id": "fad1eced",
   "metadata": {},
   "source": []
  }
 ],
 "metadata": {
  "kernelspec": {
   "display_name": "Python 3 (ipykernel)",
   "language": "python",
   "name": "python3"
  },
  "language_info": {
   "codemirror_mode": {
    "name": "ipython",
    "version": 3
   },
   "file_extension": ".py",
   "mimetype": "text/x-python",
   "name": "python",
   "nbconvert_exporter": "python",
   "pygments_lexer": "ipython3",
   "version": "3.10.4"
  }
 },
 "nbformat": 4,
 "nbformat_minor": 5
}
