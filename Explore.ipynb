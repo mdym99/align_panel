{
 "cells": [
  {
   "cell_type": "markdown",
   "id": "bcc53084",
   "metadata": {},
   "source": [
    "# Explore\n",
    "\n",
    "You are probably interested, how to show data saved in the h5 file. Here are several examples.\n"
   ]
  },
  {
   "cell_type": "code",
   "execution_count": null,
   "id": "07a5699b",
   "metadata": {},
   "outputs": [],
   "source": [
    "from imgsetlib import Imgset\n",
    "import matplotlib.pyplot as plt\n",
    "from skimage import transform as sktransform\n",
    "\n",
    "\"\"\"try to display some results:\"\"\"\n",
    "imgset1 = Imgset(\"test_data/mytestfile5.h5\",1)\n",
    "print(\"Those are all atributes in the imageset:\")\n",
    "print(imgset1.__dict__.keys())\n",
    "\n",
    "tochange = imgset1.unwrapped_phase\n",
    "tmat = imgset1.tmat\n",
    "\n",
    "print(\">>>1\")\n",
    "img_aligned = sktransform.warp(tochange, tmat) \n",
    "print(\">>>2\")\n",
    "\n",
    "\n",
    "\"\"\"Display some images\"\"\"\n",
    "fig, ax = plt.subplots(1, 5, figsize=(20, 9))\n",
    "\n",
    "im0 = ax[0].imshow(imgset1.unwrapped_phase_stat, cmap='gist_rainbow')\n",
    "ax[0].set_title('unwrapped_phase_stat')\n",
    "ax[0].axis('off')\n",
    "fig.colorbar(im0, ax=ax[0])\n",
    "\n",
    "im1 = ax[1].imshow(imgset1.unwrapped_phase, cmap='gist_rainbow')\n",
    "ax[1].set_title('unwrapped_phase')\n",
    "ax[1].axis('off')\n",
    "fig.colorbar(im1, ax=ax[1])\n",
    "\n",
    "im2 = ax[2].imshow(img_aligned, cmap='gist_rainbow')\n",
    "ax[2].set_title('img_aligned')\n",
    "ax[2].axis('off')\n",
    "fig.colorbar(im2, ax=ax[2])\n",
    "\n",
    "im3 = ax[3].imshow((imgset1.unwrapped_phase_stat + img_aligned)/2, cmap='gist_rainbow')\n",
    "ax[3].set_title('sum')\n",
    "ax[3].axis('off')\n",
    "fig.colorbar(im3, ax=ax[3])\n",
    "\n",
    "im4 = ax[4].imshow((imgset1.unwrapped_phase_stat - img_aligned)*2, cmap='gist_rainbow')\n",
    "ax[4].set_title('dif')\n",
    "ax[4].axis('off')\n",
    "fig.colorbar(im4, ax=ax[4])\n",
    "plt.show()"
   ]
  }
 ],
 "metadata": {
  "kernelspec": {
   "display_name": "Python 3 (ipykernel)",
   "language": "python",
   "name": "python3"
  },
  "language_info": {
   "codemirror_mode": {
    "name": "ipython",
    "version": 3
   },
   "file_extension": ".py",
   "mimetype": "text/x-python",
   "name": "python",
   "nbconvert_exporter": "python",
   "pygments_lexer": "ipython3",
   "version": "3.10.4"
  }
 },
 "nbformat": 4,
 "nbformat_minor": 5
}
