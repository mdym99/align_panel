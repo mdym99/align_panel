{
 "cells": [
  {
   "cell_type": "markdown",
   "id": "90dd3ddf",
   "metadata": {},
   "source": [
    "# Hologram alignment tools"
   ]
  },
  {
   "cell_type": "code",
   "execution_count": null,
   "id": "6060264a",
   "metadata": {},
   "outputs": [],
   "source": [
    "import pathlib\n",
    "import panel as pn\n",
    "pn.extension()\n",
    "\n",
    "from aperture.utils.notebook_tools import stop_nb, notebook_fullwidth\n",
    "from align_panel.notebook_panels import align_cell, imgset_select_panel\n",
    "\n",
    "notebook_fullwidth()"
   ]
  },
  {
   "cell_type": "markdown",
   "id": "c8954460",
   "metadata": {},
   "source": [
    "Specify the file path:"
   ]
  },
  {
   "cell_type": "code",
   "execution_count": null,
   "id": "6b140c76",
   "metadata": {},
   "outputs": [],
   "source": [
    "data_path = pathlib.Path('test.hdf5')"
   ]
  },
  {
   "cell_type": "code",
   "execution_count": null,
   "id": "63d78287",
   "metadata": {
    "scrolled": true
   },
   "outputs": [],
   "source": [
    "lo, get_imgsets = imgset_select_panel(data_path)"
   ]
  },
  {
   "cell_type": "code",
   "execution_count": null,
   "id": "c89156ba",
   "metadata": {},
   "outputs": [],
   "source": [
    "stop_nb(continue_name='(Re)load align cell')"
   ]
  },
  {
   "cell_type": "code",
   "execution_count": null,
   "id": "fe85afe3",
   "metadata": {
    "scrolled": false
   },
   "outputs": [],
   "source": [
    "align_cell(**get_imgsets())"
   ]
  }
 ],
 "metadata": {
  "kernelspec": {
   "display_name": "Python 3 (ipykernel)",
   "language": "python",
   "name": "python3"
  },
  "language_info": {
   "codemirror_mode": {
    "name": "ipython",
    "version": 3
   },
   "file_extension": ".py",
   "mimetype": "text/x-python",
   "name": "python",
   "nbconvert_exporter": "python",
   "pygments_lexer": "ipython3",
   "version": "3.10.4"
  }
 },
 "nbformat": 4,
 "nbformat_minor": 5
}
