{
 "cells": [
  {
   "cell_type": "markdown",
   "id": "90dd3ddf",
   "metadata": {},
   "source": [
    "# Hologram alignment tools\n",
    "\n",
    "This notebook demonstrates the use of the function `align_cell` from the package `align_panel`, which provides a set of image alignment tools for working with a particular HDF5 image database structure.\n",
    "\n",
    "The function generates a GUI panel with multiple pages, which can be launched (as here) in a notebook, or directly from a script by calling `align_cell(...).show()`."
   ]
  },
  {
   "cell_type": "code",
   "execution_count": null,
   "id": "ae1c238f",
   "metadata": {},
   "outputs": [],
   "source": [
    "import panel as pn\n",
    "pn.extension()"
   ]
  },
  {
   "cell_type": "markdown",
   "id": "ece87ddb",
   "metadata": {},
   "source": [
    "Calling `pn.extension()` is necessary to help the `Panel` (https://panel.holoviz.org/) library work correctly inside the notebook. It is possible to work without it but it is less robust.\n",
    "\n",
    "We now import some more 'local' libraries:"
   ]
  },
  {
   "cell_type": "code",
   "execution_count": null,
   "id": "d576fec7",
   "metadata": {},
   "outputs": [],
   "source": [
    "from aperture.utils.notebook_tools import stop_nb, notebook_fullwidth\n",
    "from align_panel.notebook_panels import align_cell, imgset_select_panel"
   ]
  },
  {
   "cell_type": "markdown",
   "id": "6699a333",
   "metadata": {},
   "source": [
    "The use of the function `notebook_fullwidth()` here is not obligatory, but does expand the width of the Jupyter Notebook page so that the GUI panels have more space to render within."
   ]
  },
  {
   "cell_type": "code",
   "execution_count": null,
   "id": "6060264a",
   "metadata": {},
   "outputs": [],
   "source": [
    "notebook_fullwidth()"
   ]
  },
  {
   "cell_type": "markdown",
   "id": "c8954460",
   "metadata": {},
   "source": [
    "We must specify the path to the existing HDF5 container:"
   ]
  },
  {
   "cell_type": "code",
   "execution_count": null,
   "id": "6b140c76",
   "metadata": {},
   "outputs": [],
   "source": [
    "data_path = 'test_data/holography.h5'"
   ]
  },
  {
   "cell_type": "markdown",
   "id": "e2c01874",
   "metadata": {},
   "source": [
    "It would be possible to manually create the `Imgset` objects to work with from this HDF5 file, but `align_panel` provides a convenience function to do this in a graphical way:"
   ]
  },
  {
   "cell_type": "code",
   "execution_count": null,
   "id": "63d78287",
   "metadata": {
    "scrolled": true
   },
   "outputs": [],
   "source": [
    "lo, get_imgsets = imgset_select_panel(data_path)"
   ]
  },
  {
   "cell_type": "markdown",
   "id": "88917424",
   "metadata": {},
   "source": [
    "The object `get_imgsets` is a function taking no arguments which returns the two `Imgset` objects to give to `align_cell`, as specified by the two dropdown lists displayed in the selection cell.\n",
    "\n",
    "The following line just halts execution until the user is ready to continue, which they can do by pressing the displayed button. This will finally load the `align_cell`. To work with another pair of image sets, adjust the dropdown boxes above then press the (Re)load button again which will rebuild the UI with these choices. **NOTE:** Any progress which has not been saved to the HDF5 file will be lost."
   ]
  },
  {
   "cell_type": "code",
   "execution_count": null,
   "id": "c89156ba",
   "metadata": {},
   "outputs": [],
   "source": [
    "stop_nb(continue_name='(Re)load align cell')"
   ]
  },
  {
   "cell_type": "code",
   "execution_count": null,
   "id": "fe85afe3",
   "metadata": {
    "scrolled": false
   },
   "outputs": [],
   "source": [
    "align_cell(**get_imgsets())"
   ]
  }
 ],
 "metadata": {
  "kernelspec": {
   "display_name": "Python 3 (ipykernel)",
   "language": "python",
   "name": "python3"
  },
  "language_info": {
   "codemirror_mode": {
    "name": "ipython",
    "version": 3
   },
   "file_extension": ".py",
   "mimetype": "text/x-python",
   "name": "python",
   "nbconvert_exporter": "python",
   "pygments_lexer": "ipython3",
   "version": "3.10.4"
  }
 },
 "nbformat": 4,
 "nbformat_minor": 5
}
