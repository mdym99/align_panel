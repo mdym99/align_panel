{
 "cells": [
  {
   "cell_type": "code",
   "execution_count": null,
   "id": "dcea8c52",
   "metadata": {},
   "outputs": [],
   "source": [
    "import panel as pn\n",
    "pn.extension()"
   ]
  },
  {
   "cell_type": "code",
   "execution_count": null,
   "id": "5abce476",
   "metadata": {},
   "outputs": [],
   "source": [
    "import numpy as np"
   ]
  },
  {
   "cell_type": "code",
   "execution_count": null,
   "id": "30d4dbaa",
   "metadata": {},
   "outputs": [],
   "source": [
    "from libertem_ui.display.notebook_tools import notebook_fullwidth, stop_nb\n",
    "from align_panel import point_registration, fine_adjust"
   ]
  },
  {
   "cell_type": "code",
   "execution_count": null,
   "id": "5eb4efe4",
   "metadata": {},
   "outputs": [],
   "source": [
    "notebook_fullwidth()"
   ]
  },
  {
   "cell_type": "code",
   "execution_count": null,
   "id": "0abd76c6",
   "metadata": {},
   "outputs": [],
   "source": [
    "shape = (600, 600)\n",
    "static = np.random.random(size=shape)\n",
    "moving = np.random.random(size=shape)"
   ]
  },
  {
   "cell_type": "code",
   "execution_count": null,
   "id": "2ec1ca9a",
   "metadata": {
    "scrolled": false
   },
   "outputs": [],
   "source": [
    "layout, getter = point_registration(static, moving)\n",
    "layout"
   ]
  },
  {
   "cell_type": "code",
   "execution_count": null,
   "id": "14a1f474",
   "metadata": {},
   "outputs": [],
   "source": [
    "stop_nb()"
   ]
  },
  {
   "cell_type": "code",
   "execution_count": null,
   "id": "0ab2c737",
   "metadata": {},
   "outputs": [],
   "source": [
    "res = getter()"
   ]
  },
  {
   "cell_type": "code",
   "execution_count": null,
   "id": "3f8f3f39",
   "metadata": {},
   "outputs": [],
   "source": [
    "layout, fine_getter = fine_adjust(static, moving, res['transform'])\n",
    "layout"
   ]
  },
  {
   "cell_type": "code",
   "execution_count": null,
   "id": "6b104369",
   "metadata": {},
   "outputs": [],
   "source": []
  }
 ],
 "metadata": {
  "kernelspec": {
   "display_name": "Python 3 (ipykernel)",
   "language": "python",
   "name": "python3"
  },
  "language_info": {
   "codemirror_mode": {
    "name": "ipython",
    "version": 3
   },
   "file_extension": ".py",
   "mimetype": "text/x-python",
   "name": "python",
   "nbconvert_exporter": "python",
   "pygments_lexer": "ipython3",
   "version": "3.9.7"
  }
 },
 "nbformat": 4,
 "nbformat_minor": 5
}
