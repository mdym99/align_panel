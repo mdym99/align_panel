{
 "cells": [
  {
   "cell_type": "markdown",
   "id": "70821504",
   "metadata": {},
   "source": [
    "# Explore holography imageset\n",
    "This example shows how to display data which are saved in h5 file\n",
    "Using the Imageset class representing one particlular imageset\n",
    "\n",
    "## Import libraries"
   ]
  },
  {
   "cell_type": "code",
   "execution_count": null,
   "id": "82705250",
   "metadata": {},
   "outputs": [],
   "source": [
    "from align_panel.imgsetlib import Imgset\n",
    "import matplotlib.pyplot as plt\n",
    "from skimage import transform as sktransform\n",
    "import numpy as np\n",
    "import ast\n",
    "import yaml"
   ]
  },
  {
   "cell_type": "markdown",
   "id": "88bd5f5f",
   "metadata": {},
   "source": [
    "# Set datapaht to the h5 data file\n",
    "and create an object of Imgset from the h5 file '-4-H'"
   ]
  },
  {
   "cell_type": "code",
   "execution_count": null,
   "id": "86ae3a38",
   "metadata": {},
   "outputs": [],
   "source": [
    "datapath = 'test_data/synchrotron.h5'\n",
    "imgset1 = Imgset(datapath,'minus')"
   ]
  },
  {
   "cell_type": "markdown",
   "id": "80a21422",
   "metadata": {},
   "source": [
    "# Get list of all data saved in file for this imageset:"
   ]
  },
  {
   "cell_type": "code",
   "execution_count": null,
   "id": "91a90090",
   "metadata": {},
   "outputs": [],
   "source": [
    "content = imgset1.get_content()\n",
    "print(\">>> content of the imageset:\\n\"+ str(content)+\"\\n\")"
   ]
  },
  {
   "cell_type": "markdown",
   "id": "906eb425",
   "metadata": {},
   "source": [
    "# Print metadata of image"
   ]
  },
  {
   "cell_type": "code",
   "execution_count": null,
   "id": "91ac0a4f",
   "metadata": {},
   "outputs": [],
   "source": [
    "print(\">>> image metadata:\")\n",
    "metadata_str = imgset1.get_data('img_metadata') #metadata are stored as string\n",
    "metadata_dict = ast.literal_eval(metadata_str) # convert them into dictionary\n",
    "metadata_prettyprint = yaml.dump(metadata_dict, default_flow_style=False) # make indentation to apear more beautifull\n",
    "print(metadata_prettyprint)\n",
    "\n",
    "print(\">>> image metadata original:\")\n",
    "metadataoriginal = imgset1.get_data('img_metadataoriginal') #metadata are stored as string\n",
    "print(metadataoriginal)"
   ]
  },
  {
   "cell_type": "markdown",
   "id": "520ab6ac",
   "metadata": {},
   "source": [
    "# load images:"
   ]
  },
  {
   "cell_type": "code",
   "execution_count": null,
   "id": "6e8f2ec5",
   "metadata": {},
   "outputs": [],
   "source": [
    "imgname = 'img'\n",
    "img_stat = imgset1.get_data(imgname,stat=True)\n",
    "img_move = imgset1.get_data(imgname,stat=False)"
   ]
  },
  {
   "cell_type": "markdown",
   "id": "94546421",
   "metadata": {},
   "source": [
    "# plot some images"
   ]
  },
  {
   "cell_type": "code",
   "execution_count": null,
   "id": "61be6769",
   "metadata": {},
   "outputs": [],
   "source": [
    "fig, ax = plt.subplots(1, 5, figsize=(20, 9))\n",
    "\n",
    "im0 = ax[0].imshow(img_stat, cmap='gist_rainbow')\n",
    "ax[0].set_title(imgname + '_stat')\n",
    "ax[0].axis('off')\n",
    "fig.colorbar(im0, ax=ax[0])\n",
    "\n",
    "im1 = ax[1].imshow(img_move, cmap='gist_rainbow')\n",
    "ax[1].set_title(imgname)\n",
    "ax[1].axis('off')\n",
    "fig.colorbar(im1, ax=ax[1])"
   ]
  },
  {
   "cell_type": "markdown",
   "id": "da4e5f6b",
   "metadata": {},
   "source": [
    "# We chack if there is a transformation matrix already"
   ]
  },
  {
   "cell_type": "code",
   "execution_count": null,
   "id": "feac3b7c",
   "metadata": {},
   "outputs": [],
   "source": [
    "try:\n",
    "    tmat = imgset1.get_data('tmat') # transformation matrix \n",
    "    # apply transformation matrix to certain image:\n",
    "    img_aligned = sktransform.warp(img_move, tmat) \n",
    "\n",
    "    \n",
    "    im2 = ax[2].imshow(img_aligned, cmap='gist_rainbow')\n",
    "    ax[2].set_title('img_aligned')\n",
    "    ax[2].axis('off')\n",
    "    fig.colorbar(im2, ax=ax[2])\n",
    "\n",
    "    im3 = ax[3].imshow((img_stat + img_aligned)/2, cmap='gist_rainbow')\n",
    "    ax[3].set_title('sum')\n",
    "    ax[3].axis('off')\n",
    "    fig.colorbar(im3, ax=ax[3])\n",
    "\n",
    "    im4 = ax[4].imshow((img_stat - img_aligned)*2, cmap='gist_rainbow')\n",
    "    ax[4].set_title('dif')\n",
    "    ax[4].axis('off')\n",
    "    fig.colorbar(im4, ax=ax[4])\n",
    "except:\n",
    "    print(\">>> Probably no transformation matrix present. First, do the alignment.\")\n",
    "    ax[2].set_title('img_aligned - tr. matrix required')\n",
    "    ax[3].set_title('sum - tr. matrix required')\n",
    "    ax[4].set_title('dif - tr. matrix required')\n",
    "\n",
    "plt.show()"
   ]
  }
 ],
 "metadata": {
  "kernelspec": {
   "display_name": "Python 3 (ipykernel)",
   "language": "python",
   "name": "python3"
  },
  "language_info": {
   "codemirror_mode": {
    "name": "ipython",
    "version": 3
   },
   "file_extension": ".py",
   "mimetype": "text/x-python",
   "name": "python",
   "nbconvert_exporter": "python",
   "pygments_lexer": "ipython3",
   "version": "3.10.4"
  }
 },
 "nbformat": 4,
 "nbformat_minor": 5
}
