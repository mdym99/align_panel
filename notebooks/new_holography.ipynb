{
 "cells": [
  {
   "cell_type": "markdown",
   "id": "93a8803d",
   "metadata": {},
   "source": [
    "# New holography imageset\n",
    "\n",
    "## 1. Load library\n"
   ]
  },
  {
   "cell_type": "code",
   "execution_count": 20,
   "id": "967b9ffb",
   "metadata": {},
   "outputs": [],
   "source": [
    "from align_panel.imgsetnew import Imgset_new_holography"
   ]
  },
  {
   "cell_type": "markdown",
   "id": "b29b82c7",
   "metadata": {},
   "source": [
    "## 2. Define path to raw images data"
   ]
  },
  {
   "cell_type": "code",
   "execution_count": 21,
   "id": "ecc4c826",
   "metadata": {},
   "outputs": [],
   "source": [
    "# define data paths\n",
    "img0_path = 'test_data/r+4-H.dm3'\n",
    "ref0_path = 'test_data/r+4-R2.dm3'\n",
    "\n",
    "img1_path = 'test_data/r-4-H.dm3'\n",
    "ref1_path = 'test_data/r-4-R2.dm3'"
   ]
  },
  {
   "cell_type": "markdown",
   "id": "a6b3373e",
   "metadata": {},
   "source": [
    "# 3. Create a new imagesets"
   ]
  },
  {
   "cell_type": "code",
   "execution_count": 22,
   "id": "f4de0027",
   "metadata": {
    "scrolled": true
   },
   "outputs": [],
   "source": [
    "imgset_new0 = Imgset_new_holography(img0_path,ref0_path)\n",
    "imgset_new1 = Imgset_new_holography(img1_path,ref1_path)"
   ]
  },
  {
   "cell_type": "markdown",
   "id": "64da434b",
   "metadata": {},
   "source": [
    "# 4. Phase reconstruction"
   ]
  },
  {
   "cell_type": "code",
   "execution_count": 17,
   "id": "72df9f34",
   "metadata": {},
   "outputs": [
    {
     "name": "stderr",
     "output_type": "stream",
     "text": [
      "WARNING:hyperspy.io:`signal_type='signal1d'` not understood. See `hs.print_known_signal_types()` for a list of installed signal types or https://github.com/hyperspy/hyperspy-extensions-list for the list of all hyperspy extensions providing signals.\n",
      "WARNING:hyperspy.io:`signal_type='signal1d'` not understood. See `hs.print_known_signal_types()` for a list of installed signal types or https://github.com/hyperspy/hyperspy-extensions-list for the list of all hyperspy extensions providing signals.\n",
      "WARNING:hyperspy.io:`signal_type='signal1d'` not understood. See `hs.print_known_signal_types()` for a list of installed signal types or https://github.com/hyperspy/hyperspy-extensions-list for the list of all hyperspy extensions providing signals.\n",
      "WARNING:hyperspy.io:`signal_type='signal1d'` not understood. See `hs.print_known_signal_types()` for a list of installed signal types or https://github.com/hyperspy/hyperspy-extensions-list for the list of all hyperspy extensions providing signals.\n",
      "WARNING:hyperspy.io:`signal_type='signal1d'` not understood. See `hs.print_known_signal_types()` for a list of installed signal types or https://github.com/hyperspy/hyperspy-extensions-list for the list of all hyperspy extensions providing signals.\n",
      "WARNING:hyperspy.io:`signal_type='signal1d'` not understood. See `hs.print_known_signal_types()` for a list of installed signal types or https://github.com/hyperspy/hyperspy-extensions-list for the list of all hyperspy extensions providing signals.\n",
      "WARNING:hyperspy.io:`signal_type='signal1d'` not understood. See `hs.print_known_signal_types()` for a list of installed signal types or https://github.com/hyperspy/hyperspy-extensions-list for the list of all hyperspy extensions providing signals.\n",
      "WARNING:hyperspy.io:`signal_type='signal1d'` not understood. See `hs.print_known_signal_types()` for a list of installed signal types or https://github.com/hyperspy/hyperspy-extensions-list for the list of all hyperspy extensions providing signals.\n",
      "WARNING:hyperspy.io:`signal_type='signal1d'` not understood. See `hs.print_known_signal_types()` for a list of installed signal types or https://github.com/hyperspy/hyperspy-extensions-list for the list of all hyperspy extensions providing signals.\n",
      "WARNING:hyperspy.io:`signal_type='complex_signal2d'` not understood. See `hs.print_known_signal_types()` for a list of installed signal types or https://github.com/hyperspy/hyperspy-extensions-list for the list of all hyperspy extensions providing signals.\n",
      "WARNING:hyperspy.io:`signal_type='complex_signal2d'` not understood. See `hs.print_known_signal_types()` for a list of installed signal types or https://github.com/hyperspy/hyperspy-extensions-list for the list of all hyperspy extensions providing signals.\n",
      "WARNING:hyperspy.io:`signal_type='complex_signal2d'` not understood. See `hs.print_known_signal_types()` for a list of installed signal types or https://github.com/hyperspy/hyperspy-extensions-list for the list of all hyperspy extensions providing signals.\n",
      "WARNING:hyperspy.io:`signal_type='complex_signal2d'` not understood. See `hs.print_known_signal_types()` for a list of installed signal types or https://github.com/hyperspy/hyperspy-extensions-list for the list of all hyperspy extensions providing signals.\n",
      "WARNING:hyperspy.io:`signal_type='complex_signal2d'` not understood. See `hs.print_known_signal_types()` for a list of installed signal types or https://github.com/hyperspy/hyperspy-extensions-list for the list of all hyperspy extensions providing signals.\n",
      "WARNING:hyperspy.io:`signal_type='complex_signal2d'` not understood. See `hs.print_known_signal_types()` for a list of installed signal types or https://github.com/hyperspy/hyperspy-extensions-list for the list of all hyperspy extensions providing signals.\n",
      "WARNING:hyperspy.io:`signal_type='complex_signal2d'` not understood. See `hs.print_known_signal_types()` for a list of installed signal types or https://github.com/hyperspy/hyperspy-extensions-list for the list of all hyperspy extensions providing signals.\n",
      "WARNING:hyperspy.io:`signal_type='complex_signal2d'` not understood. See `hs.print_known_signal_types()` for a list of installed signal types or https://github.com/hyperspy/hyperspy-extensions-list for the list of all hyperspy extensions providing signals.\n",
      "WARNING:hyperspy.io:`signal_type='signal1d'` not understood. See `hs.print_known_signal_types()` for a list of installed signal types or https://github.com/hyperspy/hyperspy-extensions-list for the list of all hyperspy extensions providing signals.\n",
      "WARNING:hyperspy.io:`signal_type='signal1d'` not understood. See `hs.print_known_signal_types()` for a list of installed signal types or https://github.com/hyperspy/hyperspy-extensions-list for the list of all hyperspy extensions providing signals.\n",
      "WARNING:hyperspy.io:`signal_type='signal1d'` not understood. See `hs.print_known_signal_types()` for a list of installed signal types or https://github.com/hyperspy/hyperspy-extensions-list for the list of all hyperspy extensions providing signals.\n",
      "WARNING:hyperspy.io:`signal_type='signal1d'` not understood. See `hs.print_known_signal_types()` for a list of installed signal types or https://github.com/hyperspy/hyperspy-extensions-list for the list of all hyperspy extensions providing signals.\n",
      "WARNING:hyperspy.io:`signal_type='signal1d'` not understood. See `hs.print_known_signal_types()` for a list of installed signal types or https://github.com/hyperspy/hyperspy-extensions-list for the list of all hyperspy extensions providing signals.\n",
      "WARNING:hyperspy.io:`signal_type='signal1d'` not understood. See `hs.print_known_signal_types()` for a list of installed signal types or https://github.com/hyperspy/hyperspy-extensions-list for the list of all hyperspy extensions providing signals.\n",
      "WARNING:hyperspy.io:`signal_type='signal1d'` not understood. See `hs.print_known_signal_types()` for a list of installed signal types or https://github.com/hyperspy/hyperspy-extensions-list for the list of all hyperspy extensions providing signals.\n",
      "WARNING:hyperspy.io:`signal_type='signal1d'` not understood. See `hs.print_known_signal_types()` for a list of installed signal types or https://github.com/hyperspy/hyperspy-extensions-list for the list of all hyperspy extensions providing signals.\n",
      "WARNING:hyperspy.io:`signal_type='signal1d'` not understood. See `hs.print_known_signal_types()` for a list of installed signal types or https://github.com/hyperspy/hyperspy-extensions-list for the list of all hyperspy extensions providing signals.\n",
      "WARNING:hyperspy.io:`signal_type='complex_signal2d'` not understood. See `hs.print_known_signal_types()` for a list of installed signal types or https://github.com/hyperspy/hyperspy-extensions-list for the list of all hyperspy extensions providing signals.\n",
      "WARNING:hyperspy.io:`signal_type='complex_signal2d'` not understood. See `hs.print_known_signal_types()` for a list of installed signal types or https://github.com/hyperspy/hyperspy-extensions-list for the list of all hyperspy extensions providing signals.\n",
      "WARNING:hyperspy.io:`signal_type='complex_signal2d'` not understood. See `hs.print_known_signal_types()` for a list of installed signal types or https://github.com/hyperspy/hyperspy-extensions-list for the list of all hyperspy extensions providing signals.\n",
      "WARNING:hyperspy.io:`signal_type='complex_signal2d'` not understood. See `hs.print_known_signal_types()` for a list of installed signal types or https://github.com/hyperspy/hyperspy-extensions-list for the list of all hyperspy extensions providing signals.\n",
      "WARNING:hyperspy.io:`signal_type='complex_signal2d'` not understood. See `hs.print_known_signal_types()` for a list of installed signal types or https://github.com/hyperspy/hyperspy-extensions-list for the list of all hyperspy extensions providing signals.\n",
      "WARNING:hyperspy.io:`signal_type='complex_signal2d'` not understood. See `hs.print_known_signal_types()` for a list of installed signal types or https://github.com/hyperspy/hyperspy-extensions-list for the list of all hyperspy extensions providing signals.\n",
      "WARNING:hyperspy.io:`signal_type='complex_signal2d'` not understood. See `hs.print_known_signal_types()` for a list of installed signal types or https://github.com/hyperspy/hyperspy-extensions-list for the list of all hyperspy extensions providing signals.\n"
     ]
    },
    {
     "name": "stderr",
     "output_type": "stream",
     "text": [
      "WARNING:hyperspy.io:`signal_type='complex_signal2d'` not understood. See `hs.print_known_signal_types()` for a list of installed signal types or https://github.com/hyperspy/hyperspy-extensions-list for the list of all hyperspy extensions providing signals.\n"
     ]
    }
   ],
   "source": [
    "imgset_new0.phase_reconstruction()\n",
    "imgset_new1.phase_reconstruction()"
   ]
  },
  {
   "cell_type": "markdown",
   "id": "76f1b549",
   "metadata": {},
   "source": [
    "# Save data into one h5 file"
   ]
  },
  {
   "cell_type": "code",
   "execution_count": 18,
   "id": "10848852",
   "metadata": {},
   "outputs": [
    {
     "data": {
      "text/plain": [
       "'ord_imageset_-4-H'"
      ]
     },
     "execution_count": 18,
     "metadata": {},
     "output_type": "execute_result"
    }
   ],
   "source": [
    "filename = \"test_data/holography.h5\"\n",
    "imgset_new0.save(filename,'+4-H', imgset_ref=True)\n",
    "imgset_new1.save(filename,'-4-H', imgset_ref=False)"
   ]
  },
  {
   "cell_type": "code",
   "execution_count": 19,
   "id": "4990d05c",
   "metadata": {},
   "outputs": [],
   "source": [
    "# Inner structure of h5 datafile:\n",
    "# \n",
    "# (f) datafile.h5\n",
    "# |—— (g) ref_imageset_name\n",
    "# |     |—— (d) img\n",
    "# |     |—— (d) ref\n",
    "# |     |—— (d) img_matadata\n",
    "# |     |—— (d) ref_metadata\n",
    "# |     |—— (d) amplitude\n",
    "# |     |—— (d) phase\n",
    "# |     |—— (d) unwrapped_phase\n",
    "# |\n",
    "# |—— (g) ord_imageset_name1\n",
    "# |     |—— (d) img\n",
    "# |     |—— (d) ref\n",
    "# |     |—— (d) img_matadata\n",
    "# |     |—— (d) ref_metadata\n",
    "# |     |—— (d) amplitude\n",
    "# |     |—— (d) phase\n",
    "# |     |—— (d) unwrapped_phase\n",
    "# |     |—— (d) tmat              ...transformation matrix created by imgsetlib by alignment to the ref_imageset\n",
    "# |\n",
    "# |—— (g) ord_imageset_name2\n",
    "# |     |—— (d) img\n",
    "# |     |—— (d) ref\n",
    "# |     |—— (d) img_matadata\n",
    "# |     |—— (d) ref_metadata\n",
    "# |     |—— (d) amplitude\n",
    "# |     |—— (d) phase\n",
    "# |     |—— (d) unwrapped_phase\n",
    "# |     |—— (d) tmat \n"
   ]
  }
 ],
 "metadata": {
  "kernelspec": {
   "display_name": "Python 3.10.4 ('testenv')",
   "language": "python",
   "name": "python3"
  },
  "language_info": {
   "codemirror_mode": {
    "name": "ipython",
    "version": 3
   },
   "file_extension": ".py",
   "mimetype": "text/x-python",
   "name": "python",
   "nbconvert_exporter": "python",
   "pygments_lexer": "ipython3",
   "version": "3.10.4"
  },
  "vscode": {
   "interpreter": {
    "hash": "f77c0fec757936261aa81cae5e4c2da000cda07453dc863ce39932629887a799"
   }
  }
 },
 "nbformat": 4,
 "nbformat_minor": 5
}
