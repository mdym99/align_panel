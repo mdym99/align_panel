{
 "cells": [
  {
   "cell_type": "markdown",
   "id": "93a8803d",
   "metadata": {},
   "source": [
    "# New synchrotron imageset\n",
    "\n",
    "## 1. Load library\n"
   ]
  },
  {
   "cell_type": "code",
   "execution_count": 20,
   "id": "967b9ffb",
   "metadata": {},
   "outputs": [],
   "source": [
    "from align_panel.imgsetnew import Imgset_new_synchrotron"
   ]
  },
  {
   "cell_type": "markdown",
   "id": "b29b82c7",
   "metadata": {},
   "source": [
    "## 2. Define path to raw images data"
   ]
  },
  {
   "cell_type": "code",
   "execution_count": 21,
   "id": "ecc4c826",
   "metadata": {},
   "outputs": [],
   "source": [
    "# define data paths\n",
    "img0_path = 'test_data/20201218_013_PtychographyRun01_Object_Amplitude.tif'\n",
    "img1_path = 'test_data/20201218_014_-Ptychography-Run01_Object_Amplitude.tif'"
   ]
  },
  {
   "cell_type": "markdown",
   "id": "a6b3373e",
   "metadata": {},
   "source": [
    "# 3. Create a new imagesets"
   ]
  },
  {
   "cell_type": "code",
   "execution_count": 22,
   "id": "f4de0027",
   "metadata": {
    "scrolled": true
   },
   "outputs": [],
   "source": [
    "imgset_new0 = Imgset_new_synchrotron(img0_path)\n",
    "imgset_new1 = Imgset_new_synchrotron(img1_path)"
   ]
  },
  {
   "cell_type": "markdown",
   "id": "76f1b549",
   "metadata": {},
   "source": [
    "# Save data into one h5 file"
   ]
  },
  {
   "cell_type": "code",
   "execution_count": 18,
   "id": "10848852",
   "metadata": {},
   "outputs": [
    {
     "data": {
      "text/plain": [
       "'ord_imageset_-4-H'"
      ]
     },
     "execution_count": 18,
     "metadata": {},
     "output_type": "execute_result"
    }
   ],
   "source": [
    "filename = \"test_data/synchrotron.h5\"\n",
    "imgset_new0.save(filename,'plus', imgset_ref=True)\n",
    "imgset_new1.save(filename,'minus', imgset_ref=False)"
   ]
  },
  {
   "cell_type": "markdown",
   "id": "9da4d34d",
   "metadata": {},
   "source": [
    "## Scheme of an example h5 file\n",
    "\n",
    "With one reference imageset and two ordinary imagesets"
   ]
  },
  {
   "cell_type": "code",
   "execution_count": 19,
   "id": "4990d05c",
   "metadata": {},
   "outputs": [],
   "source": [
    "# Inner structure of h5 datafile of synchrotron:\n",
    "# \n",
    "# (f) datafile.h5\n",
    "# |—— (g) ref_imageset_name\n",
    "# |     |—— (d) img\n",
    "# |     |—— (d) img_metadata\n",
    "# |\n",
    "# |—— (g) ord_imageset_name1\n",
    "# |     |—— (d) img\n",
    "# |     |—— (d) img_metadata\n",
    "# |     |—— (d) tmat              ...transformation matrix created by imgsetlib by alignment to the ref_imageset\n",
    "# |\n",
    "# |—— (g) ord_imageset_name2\n",
    "# |     |—— (d) img\n",
    "# |     |—— (d) img_metadata\n",
    "# |     |—— (d) tmat \n"
   ]
  }
 ],
 "metadata": {
  "kernelspec": {
   "display_name": "Python 3.10.4 ('imageprocessing')",
   "language": "python",
   "name": "python3"
  },
  "language_info": {
   "codemirror_mode": {
    "name": "ipython",
    "version": 3
   },
   "file_extension": ".py",
   "mimetype": "text/x-python",
   "name": "python",
   "nbconvert_exporter": "python",
   "pygments_lexer": "ipython3",
   "version": "3.10.4"
  },
  "vscode": {
   "interpreter": {
    "hash": "6d8d603eab9df5da7dfaf2fecc7444b61b8f5b35212ab587a355bf9a6fb4732c"
   }
  }
 },
 "nbformat": 4,
 "nbformat_minor": 5
}
