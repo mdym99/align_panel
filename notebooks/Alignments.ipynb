{
 "cells": [
  {
   "cell_type": "markdown",
   "metadata": {},
   "source": [
    "# Alignment workflow \n",
    "This notebook demonstrates the alignment workflow - possible combination of multiple alignment steps."
   ]
  },
  {
   "cell_type": "markdown",
   "metadata": {},
   "source": [
    "## Import libraries"
   ]
  },
  {
   "cell_type": "code",
   "execution_count": null,
   "metadata": {},
   "outputs": [],
   "source": [
    "from align_panel.data_structure import ImageSetHolo\n",
    "from align_panel.align.crop import CropAlignments\n",
    "from align_panel.align.fine import FineAlignments\n",
    "from align_panel.align.points import PointAlignments\n",
    "from align_panel.image_transformer import ImageTransformer\n",
    "import matplotlib\n",
    "matplotlib.use('TkAgg') # solves problem with interactive matplotlib windows\n",
    "import matplotlib.pyplot as plt"
   ]
  },
  {
   "cell_type": "code",
   "execution_count": null,
   "metadata": {},
   "outputs": [],
   "source": [
    "path_1 ='/data/Hb-.dm3'\n",
    "path_2 ='/data/Rb-.dm3'\n",
    "path_3 ='/data/Hb+.dm3'\n",
    "path_4 ='/data/Rb+.dm3'"
   ]
  },
  {
   "cell_type": "code",
   "execution_count": null,
   "metadata": {},
   "outputs": [],
   "source": [
    "image_set1 = ImageSetHolo.load(path_1, path_2) # reference image set\n",
    "image_set2 = ImageSetHolo.load(path_3, path_4) # image set to be aligned"
   ]
  },
  {
   "cell_type": "code",
   "execution_count": null,
   "metadata": {},
   "outputs": [],
   "source": [
    "image_set1.phase_calculation()\n",
    "image_set2.phase_calculation()"
   ]
  },
  {
   "cell_type": "markdown",
   "metadata": {},
   "source": [
    "# ImageTransformer\n",
    "\n",
    "Output of each transformation technique is an aligned image and transformation matrix. Because we need to combine matrices of several techniques, we need to store them in a list. For this purpose, we will use an `ImageTransformer` class. It takes an image as an input and can store multiple transformation matrices in its atribute. This class contains methods to calculate the final transformation matrix and to apply it to the image to obtain the aligned image."
   ]
  },
  {
   "cell_type": "code",
   "execution_count": null,
   "metadata": {},
   "outputs": [],
   "source": [
    "moving_image = ImageTransformer(image_set2.unwrapped_phase.data)"
   ]
  },
  {
   "cell_type": "markdown",
   "metadata": {},
   "source": [
    "## First step of alignments - Crop and automatic alignments\n",
    "All the alignment techniques have numpy arrays as an input for the images, therefore we need to obtain the numpy arrays from the `ImageSetHolo` instances. That is why `unwrapped_images.data` is called."
   ]
  },
  {
   "cell_type": "code",
   "execution_count": null,
   "metadata": {},
   "outputs": [],
   "source": [
    "crop_align = CropAlignments(image_set1.unwrapped_phase.data,image_set2.unwrapped_phase.data, method='euclidean')"
   ]
  },
  {
   "cell_type": "markdown",
   "metadata": {},
   "source": [
    "Now, the result transformation matrix need to saved into the `moving_image` ImageTransformer."
   ]
  },
  {
   "cell_type": "code",
   "execution_count": null,
   "metadata": {},
   "outputs": [],
   "source": [
    "moving_image.add_transform(crop_align.tmat)"
   ]
  },
  {
   "cell_type": "markdown",
   "metadata": {},
   "source": [
    "## Second step of alignments - Point alignments on cropped out parts"
   ]
  },
  {
   "cell_type": "markdown",
   "metadata": {},
   "source": [
    "If the result of the alignments is not a desired one, the alignments can be called again. Other alignments can be called instead. When you are satisfied with the result, you can save the transformation matrix into the `moving_image` ImageTransformer with the `add_tranform` method."
   ]
  },
  {
   "cell_type": "code",
   "execution_count": null,
   "metadata": {},
   "outputs": [],
   "source": [
    "point_align = PointAlignments(crop_align._cropped_images['ref'], crop_align._cropped_images['mov'], method='euclidean',rebin = 8)"
   ]
  },
  {
   "cell_type": "code",
   "execution_count": null,
   "metadata": {},
   "outputs": [],
   "source": [
    "moving_image.add_transform(point_align.tmat)"
   ]
  },
  {
   "cell_type": "markdown",
   "metadata": {},
   "source": [
    "To get the result of the alignments from the `moving_image` ImageTransformer, you need to call the `get_transform-image()` method."
   ]
  },
  {
   "cell_type": "code",
   "execution_count": null,
   "metadata": {},
   "outputs": [],
   "source": [
    "plt.imshow(moving_image.get_transformed_image(), cmap='gray')\n",
    "plt.show()"
   ]
  }
 ],
 "metadata": {
  "kernelspec": {
   "display_name": "SPINTEC",
   "language": "python",
   "name": "python3"
  },
  "language_info": {
   "codemirror_mode": {
    "name": "ipython",
    "version": 3
   },
   "file_extension": ".py",
   "mimetype": "text/x-python",
   "name": "python",
   "nbconvert_exporter": "python",
   "pygments_lexer": "ipython3",
   "version": "3.7.7"
  },
  "orig_nbformat": 4
 },
 "nbformat": 4,
 "nbformat_minor": 2
}
