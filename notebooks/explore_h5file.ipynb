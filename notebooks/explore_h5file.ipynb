{
 "cells": [
  {
   "cell_type": "markdown",
   "id": "46aa0124",
   "metadata": {},
   "source": [
    "# Explore h5 file\n",
    "Shows how to explore content of an HDF5 file"
   ]
  },
  {
   "cell_type": "code",
   "execution_count": null,
   "id": "d391fe12",
   "metadata": {},
   "outputs": [],
   "source": [
    "from align_panel.imgsetlib import H5file"
   ]
  },
  {
   "cell_type": "markdown",
   "id": "f63b9890",
   "metadata": {},
   "source": [
    "## Define a path to a h5 datafile\n",
    "and create an instance of the file"
   ]
  },
  {
   "cell_type": "code",
   "execution_count": null,
   "id": "4cc8ba2c",
   "metadata": {
    "scrolled": true
   },
   "outputs": [],
   "source": [
    "myfilename = 'test_data/holography.h5'\n",
    "mydatafile = H5file(myfilename)"
   ]
  },
  {
   "cell_type": "markdown",
   "id": "0e6beb49",
   "metadata": {},
   "source": [
    "# Print all imagesets inside the h5 file"
   ]
  },
  {
   "cell_type": "code",
   "execution_count": null,
   "id": "f8159777",
   "metadata": {},
   "outputs": [],
   "source": [
    "print (\"\\nthis is the content:\")\n",
    "print (\"reference imageset name: \" + str(mydatafile.ref_imageset_name))\n",
    "print (\"imagesets names: \" + str(mydatafile.imageset_names))\n",
    "print (\"the rest: \" + str(mydatafile.rest))\n",
    "\n",
    "print (\"\\nHere are the full names of imagesets:\")\n",
    "print (\"reference imageset full name: \" + str(mydatafile.ref_imageset_fullname))\n",
    "print (\"imagesets full names: \" + str(mydatafile.imageset_fullnames) + '\\n')"
   ]
  }
 ],
 "metadata": {
  "kernelspec": {
   "display_name": "Python 3 (ipykernel)",
   "language": "python",
   "name": "python3"
  },
  "language_info": {
   "codemirror_mode": {
    "name": "ipython",
    "version": 3
   },
   "file_extension": ".py",
   "mimetype": "text/x-python",
   "name": "python",
   "nbconvert_exporter": "python",
   "pygments_lexer": "ipython3",
   "version": "3.10.4"
  }
 },
 "nbformat": 4,
 "nbformat_minor": 5
}
