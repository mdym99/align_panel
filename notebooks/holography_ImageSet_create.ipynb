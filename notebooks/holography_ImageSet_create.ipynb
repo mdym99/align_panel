{
 "cells": [
  {
   "attachments": {},
   "cell_type": "markdown",
   "metadata": {},
   "source": [
    "# How to load ImageSets\n",
    "In this notebook we will create and save ImageSets into .nxs file\n",
    "\n",
    "## Load libraries"
   ]
  },
  {
   "cell_type": "code",
   "execution_count": 1,
   "metadata": {},
   "outputs": [],
   "source": [
    "from data_structure import ImageSet"
   ]
  },
  {
   "attachments": {},
   "cell_type": "markdown",
   "metadata": {},
   "source": [
    "## Now we will define paths to our data\n",
    "\n",
    "We will load 4 holography images, 2 actual images and 2 references."
   ]
  },
  {
   "cell_type": "code",
   "execution_count": 2,
   "metadata": {},
   "outputs": [],
   "source": [
    "path1 = 'Holography\\HoloSatNegative\\Z1_H.dm4'\n",
    "path2 = 'Holography\\HoloSatNegative\\Z12_R.dm4'\n",
    "path3 = 'Holography\\HoloSatPositive\\Z1_H.dm4'\n",
    "path4 = 'Holography\\HoloSatPositive\\Z1et2_R.dm4'"
   ]
  },
  {
   "attachments": {},
   "cell_type": "markdown",
   "metadata": {},
   "source": [
    "# Definition of ImageSets"
   ]
  },
  {
   "cell_type": "code",
   "execution_count": 3,
   "metadata": {},
   "outputs": [],
   "source": [
    "positive_imageset = ImageSet(type_measurement=\"holography\")\n",
    "negative_imageset = ImageSet(type_measurement=\"holography\")"
   ]
  },
  {
   "attachments": {},
   "cell_type": "markdown",
   "metadata": {},
   "source": [
    "# Creation of ImageSets (loading of raw images) with hyperspy"
   ]
  },
  {
   "cell_type": "code",
   "execution_count": 4,
   "metadata": {},
   "outputs": [],
   "source": [
    "positive_imageset.create_ImageSet(path1, path2)\n",
    "negative_imageset.create_ImageSet(path3, path4)"
   ]
  },
  {
   "attachments": {},
   "cell_type": "markdown",
   "metadata": {},
   "source": [
    "# Exploration of ImageSet data"
   ]
  },
  {
   "cell_type": "code",
   "execution_count": 5,
   "metadata": {},
   "outputs": [
    {
     "data": {
      "image/png": "[encoded data removed]",
      "text/plain": [
       "<Figure size 640x413.333 with 2 Axes>"
      ]
     },
     "metadata": {},
     "output_type": "display_data"
    }
   ],
   "source": [
    "positive_imageset.image.plot()"
   ]
  },
  {
   "cell_type": "code",
   "execution_count": 7,
   "metadata": {},
   "outputs": [
    {
     "data": {
      "text/html": [
       "<ul style=\"margin: 0px; list-style-position: outside;\">\n",
       "                    <details open>\n",
       "                    <summary style=\"display: list-item;\">\n",
       "                    <li style=\"display: inline;\">\n",
       "                    Acquisition_instrument\n",
       "                    </li></summary>\n",
       "                    <ul style=\"margin: 0px; list-style-position: outside;\">\n",
       "                    <details closed>\n",
       "                    <summary style=\"display: list-item;\">\n",
       "                    <li style=\"display: inline;\">\n",
       "                    TEM\n",
       "                    </li></summary>\n",
       "                    <ul style=\"margin: 0px; list-style-position: outside;\">\n",
       "                    <details closed>\n",
       "                    <summary style=\"display: list-item;\">\n",
       "                    <li style=\"display: inline;\">\n",
       "                    Camera\n",
       "                    </li></summary>\n",
       "                    \n",
       "    <ul style=\"margin: 0px; list-style-position: outside;\">\n",
       "    <li style='margin-left:1em; padding-left: 0.5em'>exposure = 0.09984000249600006</li></ul>\n",
       "    </details></ul>\n",
       "    <ul style=\"margin: 0px; list-style-position: outside;\">\n",
       "    <li style='margin-left:1em; padding-left: 0.5em'>acquisition_mode = TEM</li></ul>\n",
       "    \n",
       "    <ul style=\"margin: 0px; list-style-position: outside;\">\n",
       "    <li style='margin-left:1em; padding-left: 0.5em'>beam_current = 0.0</li></ul>\n",
       "    \n",
       "    <ul style=\"margin: 0px; list-style-position: outside;\">\n",
       "    <li style='margin-left:1em; padding-left: 0.5em'>beam_energy = 300.0</li></ul>\n",
       "    \n",
       "    <ul style=\"margin: 0px; list-style-position: outside;\">\n",
       "    <li style='margin-left:1em; padding-left: 0.5em'>magnification = 500000.0</li></ul>\n",
       "    \n",
       "    <ul style=\"margin: 0px; list-style-position: outside;\">\n",
       "    <li style='margin-left:1em; padding-left: 0.5em'>microscope = Hitachi HF3300 v1.06</li></ul>\n",
       "    </details></ul></details></ul><ul style=\"margin: 0px; list-style-position: outside;\">\n",
       "                    <details open>\n",
       "                    <summary style=\"display: list-item;\">\n",
       "                    <li style=\"display: inline;\">\n",
       "                    General\n",
       "                    </li></summary>\n",
       "                    <ul style=\"margin: 0px; list-style-position: outside;\">\n",
       "                    <details closed>\n",
       "                    <summary style=\"display: list-item;\">\n",
       "                    <li style=\"display: inline;\">\n",
       "                    FileIO\n",
       "                    </li></summary>\n",
       "                    <ul style=\"margin: 0px; list-style-position: outside;\">\n",
       "                    <details closed>\n",
       "                    <summary style=\"display: list-item;\">\n",
       "                    <li style=\"display: inline;\">\n",
       "                    0\n",
       "                    </li></summary>\n",
       "                    \n",
       "    <ul style=\"margin: 0px; list-style-position: outside;\">\n",
       "    <li style='margin-left:1em; padding-left: 0.5em'>hyperspy_version = 1.7.3</li></ul>\n",
       "    \n",
       "    <ul style=\"margin: 0px; list-style-position: outside;\">\n",
       "    <li style='margin-left:1em; padding-left: 0.5em'>io_plugin = hyperspy.io_plugins.digital_micrograph</li></ul>\n",
       "    \n",
       "    <ul style=\"margin: 0px; list-style-position: outside;\">\n",
       "    <li style='margin-left:1em; padding-left: 0.5em'>operation = load</li></ul>\n",
       "    \n",
       "    <ul style=\"margin: 0px; list-style-position: outside;\">\n",
       "    <li style='margin-left:1em; padding-left: 0.5em'>timestamp = 2023-03-29T09:35:38.978009+02:00</li></ul>\n",
       "    </details></ul></details></ul>\n",
       "    <ul style=\"margin: 0px; list-style-position: outside;\">\n",
       "    <li style='margin-left:1em; padding-left: 0.5em'>date = 2023-02-08</li></ul>\n",
       "    \n",
       "    <ul style=\"margin: 0px; list-style-position: outside;\">\n",
       "    <li style='margin-left:1em; padding-left: 0.5em'>original_filename = Z1_H.dm4</li></ul>\n",
       "    \n",
       "    <ul style=\"margin: 0px; list-style-position: outside;\">\n",
       "    <li style='margin-left:1em; padding-left: 0.5em'>time = 11:39:14</li></ul>\n",
       "    \n",
       "    <ul style=\"margin: 0px; list-style-position: outside;\">\n",
       "    <li style='margin-left:1em; padding-left: 0.5em'>title = Z1_H</li></ul>\n",
       "    </details></ul><ul style=\"margin: 0px; list-style-position: outside;\">\n",
       "                    <details open>\n",
       "                    <summary style=\"display: list-item;\">\n",
       "                    <li style=\"display: inline;\">\n",
       "                    Signal\n",
       "                    </li></summary>\n",
       "                    <ul style=\"margin: 0px; list-style-position: outside;\">\n",
       "                    <details closed>\n",
       "                    <summary style=\"display: list-item;\">\n",
       "                    <li style=\"display: inline;\">\n",
       "                    Noise_properties\n",
       "                    </li></summary>\n",
       "                    <ul style=\"margin: 0px; list-style-position: outside;\">\n",
       "                    <details closed>\n",
       "                    <summary style=\"display: list-item;\">\n",
       "                    <li style=\"display: inline;\">\n",
       "                    Variance_linear_model\n",
       "                    </li></summary>\n",
       "                    \n",
       "    <ul style=\"margin: 0px; list-style-position: outside;\">\n",
       "    <li style='margin-left:1em; padding-left: 0.5em'>gain_factor = 1.0</li></ul>\n",
       "    \n",
       "    <ul style=\"margin: 0px; list-style-position: outside;\">\n",
       "    <li style='margin-left:1em; padding-left: 0.5em'>gain_offset = 0.0</li></ul>\n",
       "    </details></ul></details></ul>\n",
       "    <ul style=\"margin: 0px; list-style-position: outside;\">\n",
       "    <li style='margin-left:1em; padding-left: 0.5em'>quantity = Intensity</li></ul>\n",
       "    \n",
       "    <ul style=\"margin: 0px; list-style-position: outside;\">\n",
       "    <li style='margin-left:1em; padding-left: 0.5em'>signal_type = hologram</li></ul>\n",
       "    </details></ul>"
      ],
      "text/plain": [
       "├── Acquisition_instrument\n",
       "│   └── TEM\n",
       "│       ├── Camera\n",
       "│       │   └── exposure = 0.09984000249600006\n",
       "│       ├── acquisition_mode = TEM\n",
       "│       ├── beam_current = 0.0\n",
       "│       ├── beam_energy = 300.0\n",
       "│       ├── magnification = 500000.0\n",
       "│       └── microscope = Hitachi HF3300 v1.06\n",
       "├── General\n",
       "│   ├── FileIO\n",
       "│   │   └── 0\n",
       "│   │       ├── hyperspy_version = 1.7.3\n",
       "│   │       ├── io_plugin = hyperspy.io_plugins.digital_micrograph\n",
       "│   │       ├── operation = load\n",
       "│   │       └── timestamp = 2023-03-29T09:35:38.978009+02:00\n",
       "│   ├── date = 2023-02-08\n",
       "│   ├── original_filename = Z1_H.dm4\n",
       "│   ├── time = 11:39:14\n",
       "│   └── title = Z1_H\n",
       "└── Signal\n",
       "    ├── Noise_properties\n",
       "    │   └── Variance_linear_model\n",
       "    │       ├── gain_factor = 1.0\n",
       "    │       └── gain_offset = 0.0\n",
       "    ├── quantity = Intensity\n",
       "    └── signal_type = hologram"
      ]
     },
     "execution_count": 7,
     "metadata": {},
     "output_type": "execute_result"
    }
   ],
   "source": [
    "negative_imageset.image.metadata"
   ]
  },
  {
   "attachments": {},
   "cell_type": "markdown",
   "metadata": {},
   "source": [
    "# Saving ImageSets to one .nxs file"
   ]
  },
  {
   "cell_type": "code",
   "execution_count": 8,
   "metadata": {},
   "outputs": [
    {
     "name": "stdout",
     "output_type": "stream",
     "text": [
      "0\n",
      "1\n"
     ]
    }
   ],
   "source": [
    "path = 'results/holograpy_images.nxs'\n",
    "positive_imageset.save(path)\n",
    "negative_imageset.save(path)"
   ]
  }
 ],
 "metadata": {
  "kernelspec": {
   "display_name": "SPINTEC",
   "language": "python",
   "name": "python3"
  },
  "language_info": {
   "codemirror_mode": {
    "name": "ipython",
    "version": 3
   },
   "file_extension": ".py",
   "mimetype": "text/x-python",
   "name": "python",
   "nbconvert_exporter": "python",
   "pygments_lexer": "ipython3",
   "version": "3.7.7"
  },
  "orig_nbformat": 4
 },
 "nbformat": 4,
 "nbformat_minor": 2
}
