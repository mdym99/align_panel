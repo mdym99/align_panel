{
 "cells": [
  {
   "cell_type": "markdown",
   "metadata": {},
   "source": [
    "# Demonstration of the full holography wofklow\n",
    "\n",
    "This notebook demonstrates the full holography workflow, from the raw data to the final .nxs file.  \n",
    "\n",
    "## Importing libraries"
   ]
  },
  {
   "cell_type": "code",
   "execution_count": null,
   "metadata": {},
   "outputs": [],
   "source": [
    "from align_panel.data_structure import ImageSetHolo\n",
    "import matplotlib\n",
    "matplotlib.use('TkAgg') # solves problem with interactive matplotlib windows\n",
    "import matplotlib.pyplot as plt"
   ]
  },
  {
   "cell_type": "markdown",
   "metadata": {},
   "source": [
    "## Loading data\n",
    "\n",
    "Now we will create two instances of the class `ImageSetHolo` and load the data.\n",
    "Insert the images into chosen folder and copy relative paths into the `path1`, `path2`, `path3`, `path4` variables.\n",
    "\n",
    "example: \n",
    "<br>\n",
    "path1 = 'data/Hb-.dm3'\n",
    "<br>\n",
    "path2 = 'data/Rb-.dm3'\n",
    "<br>\n",
    "path3 = 'data/Hb+.dm3'\n",
    "<br>\n",
    "path4 = 'data/Rb+.dm3'"
   ]
  },
  {
   "cell_type": "code",
   "execution_count": null,
   "metadata": {},
   "outputs": [],
   "source": [
    "path1 = '/data/Hb-.dm3'\n",
    "path2 = '/data/Rb-.dm3'\n",
    "path3 = '/data/Hb+.dm3'\n",
    "path4 = '/data/Rb+.dm3'"
   ]
  },
  {
   "cell_type": "code",
   "execution_count": null,
   "metadata": {},
   "outputs": [],
   "source": [
    "image_set1 = ImageSetHolo.load(path1, path2) # reference imageset\n",
    "image_set2 = ImageSetHolo.load(path3, path4) # imageset to be aligned"
   ]
  },
  {
   "cell_type": "markdown",
   "metadata": {},
   "source": [
    "## Check the loaded data\n",
    "\n",
    "With the `Hyperspy` functions `plot` and `axes_manager` we can check the loaded data. Also, to see the metadata, call the `metadata` attribute of the `ImageSetHolo` class.\n",
    "Same can be done for the second instance of the class."
   ]
  },
  {
   "cell_type": "code",
   "execution_count": null,
   "metadata": {},
   "outputs": [],
   "source": [
    "image_set1.image.axes_manager"
   ]
  },
  {
   "cell_type": "code",
   "execution_count": null,
   "metadata": {},
   "outputs": [],
   "source": [
    "image_set1.image.plot()\n",
    "plt.show()"
   ]
  },
  {
   "cell_type": "code",
   "execution_count": null,
   "metadata": {},
   "outputs": [],
   "source": [
    "image_set1.image.metadata"
   ]
  },
  {
   "cell_type": "markdown",
   "metadata": {},
   "source": [
    "## Calculation of the phase shift\n",
    "For the phase calculation, call the `phase_calculation` method. It has several paramaters definig the calculation and also the plotting of the results. It is also possible to save unwrapped phase shift as a .png file outside the .nxs file."
   ]
  },
  {
   "cell_type": "code",
   "execution_count": null,
   "metadata": {},
   "outputs": [],
   "source": [
    "image_set1.phase_calculation()\n",
    "image_set2.phase_calculation()"
   ]
  },
  {
   "cell_type": "markdown",
   "metadata": {},
   "source": [
    "## Alignments\n",
    "\n",
    "Now, to gain the final information and the contribution of magnetic induction to the phase shift, we need to align the images. For this, several methods can be called. In this notebook, we will use `PointAlignments`. \n",
    "<br>\n",
    "The call for CropAlignments is:\n",
    "<br>\n",
    "`from align_panel.align.crop import CropAlignments`\n",
    "<br>\n",
    "The call for FineAlignments is:\n",
    "<br>\n",
    "`from align_panel.align.fine import FineAlignments`\n",
    "<br>\n",
    "<br>\n",
    "All the alignment techniques have numpy arrays as an input for the images, therefore we need to obtain the numpy arrays from the `ImageSetHolo` instances."
   ]
  },
  {
   "cell_type": "code",
   "execution_count": null,
   "metadata": {},
   "outputs": [],
   "source": [
    "from align_panel.align.points import PointAlignments"
   ]
  },
  {
   "cell_type": "code",
   "execution_count": null,
   "metadata": {},
   "outputs": [],
   "source": [
    "image_1 = image_set1.unwrapped_phase.data\n",
    "image_2 = image_set2.unwrapped_phase.data"
   ]
  },
  {
   "cell_type": "code",
   "execution_count": null,
   "metadata": {},
   "outputs": [],
   "source": [
    "result = PointAlignments(image_1, image_2,8)"
   ]
  },
  {
   "cell_type": "markdown",
   "metadata": {},
   "source": [
    "The result is an instance of the `PointAlignments` class. To see the results, call `result.tmat` or `plt.imshow(result.result_image,cmap= 'gray')` to vizualize the transformation matrix or the result image. "
   ]
  },
  {
   "cell_type": "code",
   "execution_count": null,
   "metadata": {},
   "outputs": [],
   "source": [
    "result.tmat"
   ]
  },
  {
   "cell_type": "code",
   "execution_count": null,
   "metadata": {},
   "outputs": [],
   "source": [
    "plt.imshow(result.result_image,cmap= 'gray')\n",
    "plt.show()"
   ]
  },
  {
   "cell_type": "markdown",
   "metadata": {},
   "source": [
    "Now, let's save the transformation matrix into second imageset. We are calling the `params` attribute to save only the transformation matrix as a numpy array, not as a `AffineTransform` object."
   ]
  },
  {
   "cell_type": "code",
   "execution_count": null,
   "metadata": {},
   "outputs": [],
   "source": [
    "image_set2.tmat = result.tmat.params"
   ]
  },
  {
   "cell_type": "markdown",
   "metadata": {},
   "source": [
    "Now, both image sets can be saved within one .nxs file with the `save` method and will contain all the information about the phase calculation and the alignment."
   ]
  },
  {
   "cell_type": "code",
   "execution_count": null,
   "metadata": {},
   "outputs": [],
   "source": [
    "image_set1.save('test.nxs')\n",
    "image_set2.save('test.nxs')"
   ]
  },
  {
   "cell_type": "markdown",
   "metadata": {},
   "source": [
    "Let's check what we saved."
   ]
  },
  {
   "cell_type": "code",
   "execution_count": null,
   "metadata": {},
   "outputs": [],
   "source": [
    "image_set1.show_content('test.nxs',scope = 'full')"
   ]
  },
  {
   "cell_type": "markdown",
   "metadata": {},
   "source": [
    "Let's check, if all the calculation parameters and transformation matrix saved correctly. We can load the 1. imageset from the .nxs file and check the `image.metadata` and `tmat` attributes."
   ]
  },
  {
   "cell_type": "code",
   "execution_count": null,
   "metadata": {},
   "outputs": [],
   "source": [
    "image_set_loaded = ImageSetHolo.load_from_nxs('test.nxs',id_number=1)"
   ]
  },
  {
   "cell_type": "code",
   "execution_count": null,
   "metadata": {},
   "outputs": [],
   "source": [
    "image_set_loaded.tmat "
   ]
  },
  {
   "cell_type": "code",
   "execution_count": null,
   "metadata": {},
   "outputs": [],
   "source": [
    "image_set_loaded.image.metadata"
   ]
  }
 ],
 "metadata": {
  "kernelspec": {
   "display_name": "SPINTEC",
   "language": "python",
   "name": "python3"
  },
  "language_info": {
   "codemirror_mode": {
    "name": "ipython",
    "version": 3
   },
   "file_extension": ".py",
   "mimetype": "text/x-python",
   "name": "python",
   "nbconvert_exporter": "python",
   "pygments_lexer": "ipython3",
   "version": "3.7.7"
  },
  "orig_nbformat": 4
 },
 "nbformat": 4,
 "nbformat_minor": 2
}
